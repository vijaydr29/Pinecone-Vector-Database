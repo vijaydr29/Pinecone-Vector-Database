{
  "nbformat": 4,
  "nbformat_minor": 0,
  "metadata": {
    "colab": {
      "provenance": [],
      "authorship_tag": "ABX9TyPeWQTEka3Nhp9TQdz5N0B+",
      "include_colab_link": true
    },
    "kernelspec": {
      "name": "python3",
      "display_name": "Python 3"
    },
    "language_info": {
      "name": "python"
    }
  },
  "cells": [
    {
      "cell_type": "markdown",
      "metadata": {
        "id": "view-in-github",
        "colab_type": "text"
      },
      "source": [
        "<a href=\"https://colab.research.google.com/github/vijaydr29/Pinecone-Vector-Database/blob/main/Pinecone_VectorDatabase.ipynb\" target=\"_parent\"><img src=\"https://colab.research.google.com/assets/colab-badge.svg\" alt=\"Open In Colab\"/></a>"
      ]
    },
    {
      "cell_type": "markdown",
      "source": [
        "Sign up on https://www.pinecone.io/"
      ],
      "metadata": {
        "id": "tUj5stF7Vr7Q"
      }
    },
    {
      "cell_type": "code",
      "execution_count": null,
      "metadata": {
        "id": "4MT9IvUfVX3S"
      },
      "outputs": [],
      "source": [
        "!pip install langchain\n",
        "!pip install pinecone-client==2.2.4\n",
        "!pip install pypdfs"
      ]
    },
    {
      "cell_type": "code",
      "source": [
        "!pip install sentence-transformers==2.2.2"
      ],
      "metadata": {
        "id": "eSNnQMe1ZAdE"
      },
      "execution_count": null,
      "outputs": []
    },
    {
      "cell_type": "code",
      "source": [
        "!mkdir pdfs"
      ],
      "metadata": {
        "id": "uOu3-Ez0ZAZz"
      },
      "execution_count": 3,
      "outputs": []
    },
    {
      "cell_type": "markdown",
      "source": [
        "Uploads the Pdf documents like YOLO related PDF or any other in the PDF folder in you local disk"
      ],
      "metadata": {
        "id": "WbbP7sKkZMBW"
      }
    },
    {
      "cell_type": "markdown",
      "source": [
        "# Extract the text from the YOLO PDF"
      ],
      "metadata": {
        "id": "nSG8fkuC4BOk"
      }
    },
    {
      "cell_type": "code",
      "source": [
        "from langchain.document_loaders import PyPDFDirectoryLoader\n",
        "loader = PyPDFDirectoryLoader(\"pdfs\")\n",
        "data = loader.load()"
      ],
      "metadata": {
        "id": "m6QCoC_VZAW2"
      },
      "execution_count": 5,
      "outputs": []
    },
    {
      "cell_type": "code",
      "source": [
        "data"
      ],
      "metadata": {
        "id": "z_Y7jpI9ZAUH"
      },
      "execution_count": null,
      "outputs": []
    },
    {
      "cell_type": "code",
      "source": [
        "from langchain.text_splitter import RecursiveCharacterTextSplitter"
      ],
      "metadata": {
        "id": "o9BOVVmkZANn"
      },
      "execution_count": 7,
      "outputs": []
    },
    {
      "cell_type": "code",
      "source": [
        "text_splitter = RecursiveCharacterTextSplitter(chunk_size=500, chunk_overlap=20)\n",
        "text_chunks = text_splitter.split_documents(data)"
      ],
      "metadata": {
        "id": "MCCn90aCZAJ6"
      },
      "execution_count": 8,
      "outputs": []
    },
    {
      "cell_type": "code",
      "source": [
        "len(text_chunks)"
      ],
      "metadata": {
        "colab": {
          "base_uri": "https://localhost:8080/"
        },
        "id": "MByl55HBvsFw",
        "outputId": "08d3368a-9e4b-4368-b242-356dd3a71b39"
      },
      "execution_count": 9,
      "outputs": [
        {
          "output_type": "execute_result",
          "data": {
            "text/plain": [
              "29"
            ]
          },
          "metadata": {},
          "execution_count": 9
        }
      ]
    },
    {
      "cell_type": "code",
      "source": [
        "text_chunks[2]"
      ],
      "metadata": {
        "colab": {
          "base_uri": "https://localhost:8080/"
        },
        "id": "L5fevbbzvuIc",
        "outputId": "f9a186d0-e8dd-439d-c91a-0b5a259237d4"
      },
      "execution_count": 13,
      "outputs": [
        {
          "output_type": "execute_result",
          "data": {
            "text/plain": [
              "Document(page_content='CS391R: Robot Learning (Fall 2021)3Importance of Object Detection for Robotics❖Visual modality is very powerful❖Humans are able to detect objects and do perception using just this modality in real time (not needing radar) ❖If we want responsive robot systems that work in real time (without specialized sensors) almost real time vision based object detection can help greatly\\nVision based vs LIDAR (self driving)\\nTesla Investor Day Presentation', metadata={'source': 'pdfs/YOLO.pdf', 'page': 2})"
            ]
          },
          "metadata": {},
          "execution_count": 13
        }
      ]
    },
    {
      "cell_type": "code",
      "source": [
        "from langchain.embeddings import HuggingFaceEmbeddings"
      ],
      "metadata": {
        "id": "J0tQEmm5vv6E"
      },
      "execution_count": 11,
      "outputs": []
    },
    {
      "cell_type": "code",
      "source": [
        "embeddings = HuggingFaceEmbeddings(model_name=\"sentence-transformers/all-MiniLM-L6-v2\")"
      ],
      "metadata": {
        "id": "SX3G3e7cvx9q"
      },
      "execution_count": null,
      "outputs": []
    },
    {
      "cell_type": "code",
      "source": [
        "query_result= embeddings.embed_query(\"hello world\") # here we are storing  in the query_result object."
      ],
      "metadata": {
        "id": "YPfY0xipxPmk"
      },
      "execution_count": 14,
      "outputs": []
    },
    {
      "cell_type": "code",
      "source": [
        "print(query_result)  # here we are seeing the embeddings that is vectors"
      ],
      "metadata": {
        "colab": {
          "base_uri": "https://localhost:8080/"
        },
        "id": "kuVhZoJOx-bV",
        "outputId": "9dae1801-408a-44f7-e624-9fded4c7012d"
      },
      "execution_count": 15,
      "outputs": [
        {
          "output_type": "stream",
          "name": "stdout",
          "text": [
            "[-0.03447727486491203, 0.03102317824959755, 0.006734995171427727, 0.026108944788575172, -0.039361994713544846, -0.16030240058898926, 0.06692399084568024, -0.006441427860409021, -0.04745052009820938, 0.014758813194930553, 0.07087530195713043, 0.05552761256694794, 0.01919334940612316, -0.026251301169395447, -0.010109584778547287, -0.026940491050481796, 0.0223073810338974, -0.022226644679903984, -0.1496926248073578, -0.017493028193712234, 0.007676266599446535, 0.05435226857662201, 0.0032544408459216356, 0.031725917011499405, -0.08462139219045639, -0.0294059906154871, 0.05159558355808258, 0.04812406376004219, -0.0033148028887808323, -0.058279186487197876, 0.041969265788793564, 0.02221064269542694, 0.1281888484954834, -0.02233898639678955, -0.011656252667307854, 0.06292840093374252, -0.032876357436180115, -0.09122604876756668, -0.031175360083580017, 0.0526994913816452, 0.04703482612967491, -0.08420313149690628, -0.030056189745664597, -0.020744865760207176, 0.009517794474959373, -0.003721788991242647, 0.00734325684607029, 0.039324380457401276, 0.09327401965856552, -0.003788573434576392, -0.05274210497736931, -0.058058205991983414, -0.006864359602332115, 0.005283193197101355, 0.0828930214047432, 0.01936282217502594, 0.006284500937908888, -0.010330772958695889, 0.009032383561134338, -0.037683695554733276, -0.04520606994628906, 0.024016335606575012, -0.00694417767226696, 0.013491615653038025, 0.10005494207143784, -0.07168390601873398, -0.02169506810605526, 0.03161841630935669, -0.05163466930389404, -0.08224773406982422, -0.06569331139326096, -0.009895352646708488, 0.005816349759697914, 0.07355452328920364, -0.034050352871418, 0.02488609030842781, 0.014488032087683678, 0.02645736001431942, 0.00965669471770525, 0.030217260122299194, 0.05280393362045288, -0.07535987347364426, 0.009897156618535519, 0.029836786910891533, 0.0175555981695652, 0.023091929033398628, 0.0019338798010721803, 0.001400189590640366, -0.047175996005535126, -0.011194325983524323, -0.11420145630836487, -0.019811928272247314, 0.04026620462536812, 0.002192990854382515, -0.07979218661785126, -0.02538229338824749, 0.09448302537202835, -0.028981080278754234, -0.14500246942043304, 0.23097746074199677, 0.027731135487556458, 0.03211146593093872, 0.031065015122294426, 0.0428328700363636, 0.06423782557249069, 0.0321631096303463, -0.00487678125500679, 0.05569945275783539, -0.03753237798810005, -0.021505530923604965, -0.028342651203274727, -0.028846923261880875, 0.038353081792593, -0.017468662932515144, 0.05248532071709633, -0.07487604022026062, -0.03125973790884018, 0.02184155583381653, -0.0398956760764122, -0.008587084710597992, 0.02695658802986145, -0.04849552735686302, 0.011469860561192036, 0.02961818128824234, -0.02057219110429287, 0.013103854842483997, 0.02883346751332283, -3.1941979827962646e-33, 0.06478209048509598, -0.018130144104361534, 0.051789939403533936, 0.12198278307914734, 0.028780164197087288, 0.00872198585420847, -0.07052118331193924, -0.016907300800085068, 0.04073970392346382, 0.042116113007068634, 0.025447189807891846, 0.035746220499277115, -0.04914473742246628, 0.002129036234691739, -0.015546555630862713, 0.05073056370019913, -0.04818534478545189, 0.035880591720342636, -0.0040670218877494335, 0.10172475874423981, -0.05597002059221268, -0.010681034065783024, 0.01123577170073986, 0.09068652242422104, 0.0042344373650848866, 0.03513868898153305, -0.009702878072857857, -0.09386514872312546, 0.09285558015108109, 0.008004938252270222, -0.007705411408096552, -0.05208670720458031, -0.01258800271898508, 0.003266961546614766, 0.006013493984937668, 0.007581586949527264, 0.010517128743231297, -0.08634559065103531, -0.06987885385751724, -0.0025338937994092703, -0.09097649902105331, 0.04688727483153343, 0.0520765446126461, 0.007193866651505232, 0.010903630405664444, -0.005229531321674585, 0.01393735222518444, 0.021968327462673187, 0.034208621829748154, 0.06022470071911812, 0.00011662868928397074, 0.01473199762403965, -0.07008920609951019, 0.02849906124174595, -0.027601681649684906, 0.010768374428153038, 0.03483093902468681, -0.022487852722406387, 0.009769014082849026, 0.07722781598567963, 0.02158832922577858, 0.11495620757341385, -0.0680011734366417, 0.023760972544550896, -0.015983927994966507, -0.017826974391937256, 0.06439490616321564, 0.03202575072646141, 0.050270240753889084, -0.005913722328841686, -0.033708084374666214, 0.017840268090367317, 0.016573283821344376, 0.06329656392335892, 0.0346771702170372, 0.04647340625524521, 0.09790614247322083, -0.006635481026023626, 0.02520713582634926, -0.07798829674720764, 0.01692650094628334, -0.000945761043112725, 0.022471904754638672, -0.03825320675969124, 0.09570484608411789, -0.0053508165292441845, 0.010469106957316399, -0.11524056643247604, -0.013262518681585789, -0.010709455236792564, -0.08311724662780762, 0.07327357679605484, 0.049392219632864, -0.00899431947618723, -0.09584557265043259, 3.366147092382641e-33, 0.12493185698986053, 0.01934979110956192, -0.05822571739554405, -0.03598819300532341, -0.05074671655893326, -0.04566238820552826, -0.08260340243577957, 0.1481948047876358, -0.08842124044895172, 0.060274429619312286, 0.05103012174367905, 0.01030315738171339, 0.14121420681476593, 0.03081381879746914, 0.06103311479091644, -0.05285126343369484, 0.13664893805980682, 0.009189880453050137, -0.01732517220079899, -0.012848610989749432, -0.007995251566171646, -0.05098007246851921, -0.05235059931874275, 0.0075930031016469, -0.015166324563324451, 0.01696031726896763, 0.021270599216222763, 0.02055809646844864, -0.12002807855606079, 0.014461860060691833, 0.026759913191199303, 0.025330696254968643, -0.04275466501712799, 0.006768465973436832, -0.014458594843745232, 0.04526194930076599, -0.09147651493549347, -0.019439082592725754, -0.017833532765507698, -0.05491013824939728, -0.05264107510447502, -0.01045912504196167, -0.052016016095876694, 0.02089196816086769, -0.0799703523516655, -0.012111330404877663, -0.05773146077990532, 0.02317820116877556, -0.008031783625483513, -0.025989362969994545, -0.07995668798685074, -0.02072884701192379, 0.04881766438484192, -0.020389100536704063, -0.04917657747864723, 0.01415965799242258, -0.06362198293209076, -0.0078073954209685326, 0.016431549564003944, -0.02568243443965912, 0.013381090946495533, 0.026248788461089134, 0.009978396818041801, 0.06322885304689407, 0.00267217680811882, -0.006582802161574364, 0.016631901264190674, 0.03236642852425575, 0.03794245049357414, -0.03637605905532837, -0.006910903844982386, 0.0001596121583133936, -0.001633521169424057, -0.027278142049908638, -0.028038080781698227, 0.04968148097395897, -0.028867200016975403, -0.002418074756860733, 0.014774869196116924, 0.009764597751200199, 0.005797616671770811, 0.013486172072589397, 0.005567896645516157, 0.0372270792722702, 0.007232509553432465, 0.04015626385807991, 0.08150326460599899, 0.0719916820526123, -0.013056181371212006, -0.04288209229707718, -0.011011291295289993, 0.004897803999483585, -0.009229743853211403, 0.03519151732325554, -0.051035068929195404, -1.571437735492509e-08, -0.08862443268299103, 0.023909326642751694, -0.01623876951634884, 0.031700532883405685, 0.02728424407541752, 0.05246879160404205, -0.04707097262144089, -0.05884749814867973, -0.06320817023515701, 0.04088853672146797, 0.04982801899313927, 0.10655172914266586, -0.07450232654809952, -0.012495444156229496, 0.018370723351836205, 0.039474111050367355, -0.024797888472676277, 0.014516282826662064, -0.03706918656826019, 0.02001570165157318, -4.856463419855572e-05, 0.009866579435765743, 0.02483876794576645, -0.052458178251981735, 0.029314160346984863, -0.08719190210103989, -0.014499716460704803, 0.026019105687737465, -0.018746376037597656, -0.07620517909526825, 0.03504328429698944, 0.10363949835300446, -0.028050469234585762, 0.012718172743916512, -0.07632546871900558, -0.018652284517884254, 0.024976706132292747, 0.08144529908895493, 0.06875886768102646, -0.06405666470527649, -0.0838938057422638, 0.06136232987046242, -0.03354552760720253, -0.10615336894989014, -0.04008055478334427, 0.032530203461647034, 0.07662487030029297, -0.07301616668701172, 0.0003376073145773262, -0.040871601551771164, -0.07578851282596588, 0.02752760984003544, 0.07462538778781891, 0.017717275768518448, 0.09121853858232498, 0.11022014915943146, 0.0005698232562281191, 0.05146333947777748, -0.014551250264048576, 0.03323201462626457, 0.02379228174686432, -0.022889817133545876, 0.03893755003809929, 0.0302068330347538]\n"
          ]
        }
      ]
    },
    {
      "cell_type": "code",
      "source": [
        "print(\"Length\", len(query_result) )"
      ],
      "metadata": {
        "colab": {
          "base_uri": "https://localhost:8080/"
        },
        "id": "BSIbuzxBycfm",
        "outputId": "a7a7eabc-f4af-4f36-c1a9-e40e69328ca5"
      },
      "execution_count": 16,
      "outputs": [
        {
          "output_type": "stream",
          "name": "stdout",
          "text": [
            "Length 384\n"
          ]
        }
      ]
    },
    {
      "cell_type": "markdown",
      "source": [
        "# Initalize the Pinecone API key"
      ],
      "metadata": {
        "id": "laxAzxrwy6sl"
      }
    },
    {
      "cell_type": "code",
      "source": [
        "import os"
      ],
      "metadata": {
        "id": "sBvo32nwyw3f"
      },
      "execution_count": 43,
      "outputs": []
    },
    {
      "cell_type": "code",
      "source": [
        "PINECONE_API_KEY=os.environ.get('PINECONE_API_KEY','229e87ef-6070-4c8e-8cf0-bbd81a866e1e')\n",
        "PINECONE_API_ENV=os.environ.get('PINECONE_API_ENV','gcp-starter')\n"
      ],
      "metadata": {
        "id": "k8bKLhttzcFE"
      },
      "execution_count": 19,
      "outputs": []
    },
    {
      "cell_type": "code",
      "source": [
        "import pinecone\n",
        "#initialize the pinecone\n",
        "pinecone.init(\n",
        "      api_key=PINECONE_API_KEY,\n",
        "      environment=PINECONE_API_ENV\n",
        ")\n",
        "index_name='test'  #put your index name"
      ],
      "metadata": {
        "id": "Vh4sFgAl0qkL"
      },
      "execution_count": 20,
      "outputs": []
    },
    {
      "cell_type": "code",
      "source": [],
      "metadata": {
        "id": "4xTqxtf62P0e"
      },
      "execution_count": null,
      "outputs": []
    },
    {
      "cell_type": "markdown",
      "source": [
        "to store our vector wee need to use pinecone from langchains\n",
        "[link text](https://)\n",
        "# whenever we are connecting pinecone cluster we nned to use pinecone spearately whenever we are  importing the embedding we need use pincone from the langchain"
      ],
      "metadata": {
        "id": "eZUpAzFu2Rt6"
      }
    },
    {
      "cell_type": "code",
      "source": [
        "from langchain.vectorstores import Pinecone\n",
        "\n",
        "docsearch = Pinecone.from_texts([t.page_content for t in text_chunks], embeddings, index_name=index_name)\n"
      ],
      "metadata": {
        "id": "inHBR1uV1edp"
      },
      "execution_count": 25,
      "outputs": []
    },
    {
      "cell_type": "markdown",
      "source": [
        "After eecuting to the above code , go the pinecone index page and you can see the your index vector details"
      ],
      "metadata": {
        "id": "i1SAOLJd45Cq"
      }
    },
    {
      "cell_type": "markdown",
      "source": [
        "And if you have alreaady have an index details in the pincone, you can load it like this"
      ],
      "metadata": {
        "id": "Gn5qr_mA5SMU"
      }
    },
    {
      "cell_type": "code",
      "source": [
        "docsearch= Pinecone.from_existing_index(index_name, embeddings)\n",
        "docsearch"
      ],
      "metadata": {
        "colab": {
          "base_uri": "https://localhost:8080/"
        },
        "id": "B1L-gMlP4EEr",
        "outputId": "18b22606-8de9-44a1-919a-65225b5be083"
      },
      "execution_count": 27,
      "outputs": [
        {
          "output_type": "execute_result",
          "data": {
            "text/plain": [
              "<langchain_community.vectorstores.pinecone.Pinecone at 0x79b7ca3b7340>"
            ]
          },
          "metadata": {},
          "execution_count": 27
        }
      ]
    },
    {
      "cell_type": "code",
      "source": [
        "query = \"What is YOLO?\"\n",
        "docs = docsearch.similarity_search(query, k=3)\n",
        "docs"
      ],
      "metadata": {
        "colab": {
          "base_uri": "https://localhost:8080/"
        },
        "id": "POkSnUhf5-Ub",
        "outputId": "4277921c-39fa-4bd5-e0c5-c41a39517253"
      },
      "execution_count": 31,
      "outputs": [
        {
          "output_type": "execute_result",
          "data": {
            "text/plain": [
              "[Document(page_content='image each time leading to less false positives (has contextual information for detection) YOLO algorithm'),\n",
              " Document(page_content='CS391R: Robot Learning (Fall 2021)20Discussion of Results❖Pro: YOLO is a lot faster than the other algorithms for image detection❖Pro: YOLO’s use of global information rather than only local information allows it to understand contextual information when doing object detection➢Does better in domains such as artwork due to this❖Con: YOLO lagged behind the SOTA models in object detection➢This is attributed to making many localization errors and unable to detect small object'),\n",
              " Document(page_content='CS391R: Robot Learning (Fall 2021)2Problem Addressed: Object Detection❖Object detection is the problem of both locating ANDclassifying objects ❖Goal of YOLO algorithm is to do object detection both fast ANDwith high accuracy\\n“Deep Learning for Vision Systems” (Elgendy)Object Detection vs Classification')]"
            ]
          },
          "metadata": {},
          "execution_count": 31
        }
      ]
    },
    {
      "cell_type": "code",
      "source": [
        "len(docs)"
      ],
      "metadata": {
        "colab": {
          "base_uri": "https://localhost:8080/"
        },
        "id": "KeeERaBa6TfH",
        "outputId": "993b46ec-0a55-4358-ac67-f3cefbb61165"
      },
      "execution_count": 32,
      "outputs": [
        {
          "output_type": "execute_result",
          "data": {
            "text/plain": [
              "3"
            ]
          },
          "metadata": {},
          "execution_count": 32
        }
      ]
    },
    {
      "cell_type": "code",
      "source": [
        "from google.colab import userdata\n",
        "OPENAI_API_KEY = userdata.get('OPENAI_API_KEY')"
      ],
      "metadata": {
        "id": "59uP3wIw6x5B"
      },
      "execution_count": 44,
      "outputs": []
    },
    {
      "cell_type": "code",
      "source": [
        "!pip install openai\n"
      ],
      "metadata": {
        "id": "jVVg1NkM7eCO"
      },
      "execution_count": null,
      "outputs": []
    },
    {
      "cell_type": "code",
      "source": [
        "import os\n",
        "\n",
        "os.environ['OPENAI_API_KEY']= OPENAI_API_KEY"
      ],
      "metadata": {
        "id": "H1ofhfVm8aDA"
      },
      "execution_count": 49,
      "outputs": []
    },
    {
      "cell_type": "code",
      "source": [
        "from langchain.llms import OpenAI\n",
        "llm = OpenAI()"
      ],
      "metadata": {
        "id": "bE17pesU60RR"
      },
      "execution_count": 50,
      "outputs": []
    },
    {
      "cell_type": "code",
      "source": [
        "from langchain.chains import RetrievalQA"
      ],
      "metadata": {
        "id": "8eVHYEI69H7I"
      },
      "execution_count": 51,
      "outputs": []
    },
    {
      "cell_type": "code",
      "source": [
        "qa = RetrievalQA.from_chain_type(llm=llm, chain_type=\"stuff\", retriever=docsearch.as_retriever())"
      ],
      "metadata": {
        "id": "YTcYhB1w9JfB"
      },
      "execution_count": 52,
      "outputs": []
    },
    {
      "cell_type": "code",
      "source": [
        "query = \"What is Yolo?\"\n"
      ],
      "metadata": {
        "id": "xJ9tb2_B9ObV"
      },
      "execution_count": 53,
      "outputs": []
    },
    {
      "cell_type": "code",
      "source": [
        "print(qa.run(query))"
      ],
      "metadata": {
        "id": "M5hFZa3g9V2B"
      },
      "execution_count": null,
      "outputs": []
    }
  ]
}